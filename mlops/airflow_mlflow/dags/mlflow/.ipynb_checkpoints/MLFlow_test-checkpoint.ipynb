{
 "cells": [
  {
   "cell_type": "code",
   "execution_count": 1,
   "id": "aa37dc5e-07a7-4af8-afa5-9710bfb85568",
   "metadata": {},
   "outputs": [],
   "source": [
    "import os\n",
    "import numpy as np\n",
    "import pandas as pd\n",
    "\n",
    "import mlflow\n",
    "from mlflow.models import infer_signature\n",
    "\n",
    "from datetime import datetime, timedelta\n",
    "from sklearn.linear_model import LinearRegression\n",
    "from sklearn.model_selection import train_test_split\n",
    "from sklearn.metrics import mean_squared_error, median_absolute_error, r2_score\n",
    "from sklearn.preprocessing import StandardScaler\n",
    "from sklearn import datasets"
   ]
  },
  {
   "cell_type": "code",
   "execution_count": 2,
   "id": "aacef4ed-c5e4-4e4e-a622-8d6718114caa",
   "metadata": {},
   "outputs": [
    {
     "data": {
      "text/plain": [
       "'http://mlflow-service:5000'"
      ]
     },
     "execution_count": 2,
     "metadata": {},
     "output_type": "execute_result"
    }
   ],
   "source": [
    "os.getenv(\"MLFLOW_TRACKING_URI\")"
   ]
  },
  {
   "cell_type": "code",
   "execution_count": 3,
   "id": "f3685de6-a8e9-4af8-9c42-a57ee772c4b9",
   "metadata": {},
   "outputs": [],
   "source": [
    "# Получим датасет California housing\n",
    "housing = datasets.fetch_california_housing(as_frame=True)\n",
    "# Объединим фичи и таргет в один np.array\n",
    "data = pd.concat([housing[\"data\"], pd.DataFrame(housing[\"target\"])], axis=1)"
   ]
  },
  {
   "cell_type": "code",
   "execution_count": 4,
   "id": "b3c75331-8771-4f0f-9c1e-49582010ceea",
   "metadata": {},
   "outputs": [],
   "source": [
    "FEATURES = [\n",
    "    \"MedInc\", \"HouseAge\", \"AveRooms\", \"AveBedrms\", \"Population\", \"AveOccup\",\n",
    "    \"Latitude\", \"Longitude\"\n",
    "]\n",
    "TARGET = \"MedHouseVal\""
   ]
  },
  {
   "cell_type": "code",
   "execution_count": 5,
   "id": "1fcb80ae-e2d2-4574-8848-42f5e238bbfd",
   "metadata": {},
   "outputs": [],
   "source": [
    "# Сделать препроцессинг\n",
    "# Разделить на фичи и таргет\n",
    "X, y = data[FEATURES], data[TARGET]\n",
    "\n",
    "# Разделить данные на обучение и тест\n",
    "X_train, X_test, y_train, y_test = train_test_split(\n",
    "    X, y, test_size=0.2, random_state=42\n",
    ")\n",
    "\n",
    "# Обучить стандартизатор на train\n",
    "scaler = StandardScaler()\n",
    "X_train_fitted = scaler.fit_transform(X_train)\n",
    "X_test_fitted = scaler.transform(X_test)\n",
    "\n",
    "# Обучить стандартизатор на train\n",
    "scaler = StandardScaler()\n",
    "X_train_fitted = scaler.fit_transform(X_train)\n",
    "X_test_fitted = scaler.transform(X_test)"
   ]
  },
  {
   "cell_type": "code",
   "execution_count": 6,
   "id": "c979146e-28cd-4ada-a373-f060ae3abb02",
   "metadata": {},
   "outputs": [
    {
     "name": "stderr",
     "output_type": "stream",
     "text": [
      "2025/10/07 20:10:00 INFO mlflow.tracking.fluent: Experiment with name '821123848896426028' does not exist. Creating a new experiment.\n"
     ]
    },
    {
     "data": {
      "text/plain": [
       "<Experiment: artifact_location='s3://mlops-webinar-web/mlflow/166202797783511374', creation_time=1759867800680, experiment_id='166202797783511374', last_update_time=1759867800680, lifecycle_stage='active', name='821123848896426028', tags={}>"
      ]
     },
     "execution_count": 6,
     "metadata": {},
     "output_type": "execute_result"
    }
   ],
   "source": [
    "name = \"MedHouseExp\"\n",
    "experiment_id = mlflow.create_experiment(name)\n",
    "mlflow.set_experiment(experiment_id)"
   ]
  },
  {
   "cell_type": "code",
   "execution_count": 7,
   "id": "2d7537b7-f42b-4073-86b4-e97839d72247",
   "metadata": {},
   "outputs": [
    {
     "data": {
      "application/vnd.jupyter.widget-view+json": {
       "model_id": "da132ee3227741118ca7bba0b0486522",
       "version_major": 2,
       "version_minor": 0
      },
      "text/plain": [
       "Downloading artifacts:   0%|          | 0/5 [00:00<?, ?it/s]"
      ]
     },
     "metadata": {},
     "output_type": "display_data"
    },
    {
     "name": "stderr",
     "output_type": "stream",
     "text": [
      "2025/10/08 15:54:58 INFO mlflow.models.evaluation.default_evaluator: Computing model predictions.\n",
      "/opt/conda/lib/python3.11/site-packages/sklearn/base.py:457: UserWarning: X has feature names, but LinearRegression was fitted without feature names\n",
      "  warnings.warn(\n",
      "/opt/conda/lib/python3.11/site-packages/sklearn/base.py:457: UserWarning: X has feature names, but LinearRegression was fitted without feature names\n",
      "  warnings.warn(\n",
      "2025/10/08 15:54:58 INFO mlflow.models.evaluation.default_evaluator: Testing metrics on first row...\n",
      "2025/10/08 15:54:58 WARNING mlflow.models.evaluation.default_evaluator: SHAP or matplotlib package is not installed, so model explainability insights will not be logged.\n",
      "2025/10/08 15:54:58 INFO mlflow.tracking._tracking_service.client: 🏃 View run my_first_run at: http://mlflow-service:5000/#/experiments/821123848896426028/runs/17d676276cc04c04982e3880c621ad06.\n",
      "2025/10/08 15:54:58 INFO mlflow.tracking._tracking_service.client: 🧪 View experiment at: http://mlflow-service:5000/#/experiments/821123848896426028.\n"
     ]
    }
   ],
   "source": [
    "with mlflow.start_run(run_name=\"my_first_run\", experiment_id = experiment_id):\n",
    "    # Обучить модель\n",
    "    model = LinearRegression()\n",
    "    model.fit(X_train_fitted, y_train)\n",
    "    y_pred = model.predict(X_test_fitted)\n",
    "\n",
    "    # Получить описание данных\n",
    "    signature = infer_signature(X_test_fitted, y_pred)\n",
    "\n",
    "    # Сохранить модель в артифактори\n",
    "    model_info = mlflow.sklearn.log_model(model, name, signature=signature)\n",
    "\n",
    "    # Сохранить метрики модели\n",
    "    mlflow.evaluate(\n",
    "        model_info.model_uri,\n",
    "        data=X_test_fitted,\n",
    "        targets=y_test.values,\n",
    "        model_type=\"regressor\",\n",
    "        evaluators=[\"default\"],\n",
    "    )"
   ]
  },
  {
   "cell_type": "code",
   "execution_count": null,
   "id": "d7ffcc10-e6ee-4792-b8ac-3ba9c8a37713",
   "metadata": {},
   "outputs": [],
   "source": []
  }
 ],
 "metadata": {
  "kernelspec": {
   "display_name": "Python 3 (ipykernel)",
   "language": "python",
   "name": "python3"
  },
  "language_info": {
   "codemirror_mode": {
    "name": "ipython",
    "version": 3
   },
   "file_extension": ".py",
   "mimetype": "text/x-python",
   "name": "python",
   "nbconvert_exporter": "python",
   "pygments_lexer": "ipython3",
   "version": "3.11.4"
  }
 },
 "nbformat": 4,
 "nbformat_minor": 5
}
